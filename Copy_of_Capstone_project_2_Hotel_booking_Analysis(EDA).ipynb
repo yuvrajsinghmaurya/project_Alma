{
  "nbformat": 4,
  "nbformat_minor": 0,
  "metadata": {
    "colab": {
      "private_outputs": true,
      "provenance": [],
      "collapsed_sections": [
        "yQaldy8SH6Dl",
        "85gYPyotYoAp",
        "qYpmQ266Yuh3",
        "8G2x9gOozGDZ",
        "gIfDvo9L0UH2"
      ]
    },
    "kernelspec": {
      "name": "python3",
      "display_name": "Python 3"
    },
    "language_info": {
      "name": "python"
    }
  },
  "cells": [
    {
      "cell_type": "markdown",
      "source": [
        "\n",
        "\n",
        "## Project Type    - EDA (Exploratory Data Analysis)\n",
        "##### **Contribution**    - Individual\n",
        "##### **Name -**  Yuvraj kumar\n"
      ],
      "metadata": {
        "id": "beRrZCGUAJYm"
      }
    },
    {
      "cell_type": "markdown",
      "source": [
        "# **Project Summary -**"
      ],
      "metadata": {
        "id": "FJNUwmbgGyua"
      }
    },
    {
      "cell_type": "markdown",
      "source": [
        "In this project I began to explore the dataset in which Hotel Booking comprises of two types of hotels i.e City Hotel and Resort Hotel.\n",
        "\n",
        "In this dataset, there are 119390 rows and 32 columns.\n",
        "\n",
        "All the columns are divided into three dtypes : Object, float64 and int64.\n",
        "\n",
        "AT the beginning I was shocked by seeing so many complex data in csv file.I had no idea what to do ,how do I start the projet,from where to start.\n",
        "In this dataset, there are both duplicates and missing values available. So, I have to deal with that and as a result i have replaced the null and missing values and also i dropped the duplicate values.\n",
        "\n",
        "After that I understood that I need to clean the data by removing some dubplicate,null values.After that I did EDA on the data to make data suitable for the further analysis and operations.\n",
        "So, in order to successfully complete this project the steps that I have follwed are aas follows:\n",
        "\n",
        "1.First I took hotal bookings.csv file and link to our individual colab notebook to grab all the data of csv.\n",
        "\n",
        "2.Created data(data frame) using csv file.\n",
        "\n",
        "3.Then applied numpy arrays whose have an attribute called .shape that returns a tuple with each index having the number of corresponding elements.\n",
        "\n",
        "4.Applied head() function in python which displays the first five rows of the dataframe by default,with transpose() were it is moving the rows data to column and column to rows 'T' is for rows to columns and columns to rows.\n",
        "\n",
        "5.Used tail() function for displaying last five rows and columns of the dataframe by default.\n",
        "\n",
        "6.Applied The info() method that gives prints information about the DataFrame.\n",
        "\n",
        "7.Applied the describe() method that returns description of the data in the DataFrame.\n",
        "\n",
        "8.Applied the columns property that returns the label of each column in the DataFrame.\n",
        "\n",
        "9.Understood each variable in dataframe.\n",
        "\n",
        "10.Removed duplicates,null values from dataframe.\n",
        "\n",
        "11.Added some columns for further use.\n",
        "\n",
        "\n",
        "after all this functions,some type of questions were came in my mind like when we book room in hotel and other stuff. I found some intresting questions which are almost 20 questions and then filter out them and I got 10 best questions are following:\n",
        "\n",
        "1. What is preffered stay in each hotel?\n",
        "\n",
        "2. What is the percentage of bookings in each hotel?\n",
        "\n",
        "3. Which agent makes most no. of bookings?\n",
        "\n",
        "4. Which meal type is most preffered meal of customers?\n",
        "\n",
        "5. Which is the most common channel for booking hotels?\n",
        "\n",
        "6. Which room type is in most demand and which room type generates highest adr?\n",
        "\n",
        "7. From where most guests are coming?\n",
        "\n",
        "8. Which hotel has higher lead time?\n",
        "\n",
        "9. which hotel seems to make more revenue?\n",
        "\n",
        "10. Which significant distribution channel has highest cancellation percentage?\n",
        "\n",
        "11. which channel is mostly used for early booking of hotels?\n",
        "\n",
        "12. which channel has longer average waiting time?\n",
        "\n",
        "13. Which hotel has longer waiting time?\n",
        "\n",
        "14. Which hotel has higher bookings cancellation rate?\n",
        "\n",
        "After doing some random EDAs.I've gained some confidence.\n",
        "\n",
        "Then I decided to do analysis.For which I took help of a bar chart and some lineplots.I made a DataFrame of which agent makes most number of bookings and dataframe of Which meal type is most preffered meal of customers?. made a Pie Chart for better visualisation.\n",
        "\n",
        "I also realise that the high rate of cancellations can be due high no deposit policies.\n",
        "\n",
        "Majority of the hotels booked are city hotel. Definitely need to spend the most targeting fund on those hotel.\n",
        "\n",
        "this is the best EDA that I did and memorable experience for me in this project.\n"
      ],
      "metadata": {
        "id": "F6v_1wHtG2nS"
      }
    },
    {
      "cell_type": "markdown",
      "source": [
        "### Github Link -https://github.com/yuvrajsinghmaurya/project_Alma\n",
        "\n"
      ],
      "metadata": {
        "id": "h1o69JH3Eqqn"
      }
    },
    {
      "cell_type": "markdown",
      "source": [
        "# **Problem Statement**\n",
        "\n",
        "Have you ever wondered when the best time of year to book a hotel room is? Or the optimal length of stay in order to get the best daily rate? What if you wanted to predict whether or not a hotel was likely to receive a disproportionately high number of special requests? This hotel booking dataset can help you explore those questions! This data set contains booking information for a city hotel and a resort hotel, and includes information such as when the booking was made, length of stay, the number of adults, children, and/or babies, and the number of available parking spaces, among other things. All personally identifying information has been removed from the data. Explore and analyze the data to discover important factors that govern the bookings.\n"
      ],
      "metadata": {
        "id": "yQaldy8SH6Dl"
      }
    },
    {
      "cell_type": "markdown",
      "source": [
        "# **Buisness Objective**"
      ],
      "metadata": {
        "id": "PH-0ReGfmX4f"
      }
    },
    {
      "cell_type": "markdown",
      "source": [
        "bold text### Analyse the data on bookings of City Hotel and Resort Hotel to gain insights on the different factors that affect the booking."
      ],
      "metadata": {
        "id": "PhDvGCAqmjP1"
      }
    },
    {
      "cell_type": "markdown",
      "source": [
        "# ***Let's Begin !***"
      ],
      "metadata": {
        "id": "O_i_v8NEhb9l"
      }
    },
    {
      "cell_type": "markdown",
      "source": [
        "## ***1. Know Your Data***"
      ],
      "metadata": {
        "id": "HhfV-JJviCcP"
      }
    },
    {
      "cell_type": "markdown",
      "source": [
        "### Import Libraries"
      ],
      "metadata": {
        "id": "Y3lxredqlCYt"
      }
    },
    {
      "cell_type": "code",
      "source": [
        "# Import Libraries\n",
        "import pandas as pd\n",
        "import numpy as np\n",
        "import matplotlib.pyplot as plt\n",
        "import seaborn as sns"
      ],
      "metadata": {
        "id": "M8Vqi-pPk-HR"
      },
      "execution_count": null,
      "outputs": []
    },
    {
      "cell_type": "markdown",
      "source": [
        "### Dataset Loading"
      ],
      "metadata": {
        "id": "3RnN4peoiCZX"
      }
    },
    {
      "cell_type": "code",
      "source": [
        "# Load Dataset\n",
        "#Let us read our data first\n",
        "#loading csv file\n",
        "file_path=\"Hotel Bookings.csv\"\n",
        "df=pd.read_csv(file_path)\n"
      ],
      "metadata": {
        "id": "4CkvbW_SlZ_R",
        "collapsed": true
      },
      "execution_count": null,
      "outputs": []
    },
    {
      "cell_type": "markdown",
      "source": [
        "### Dataset First View"
      ],
      "metadata": {
        "id": "x71ZqKXriCWQ"
      }
    },
    {
      "cell_type": "code",
      "source": [
        "# Dataset First Look\n",
        "# head will display top 5 rows\n",
        "df.head()"
      ],
      "metadata": {
        "id": "LWNFOSvLl09H"
      },
      "execution_count": null,
      "outputs": []
    },
    {
      "cell_type": "code",
      "source": [
        "df.tail()"
      ],
      "metadata": {
        "id": "Er6Mym5z0Hro"
      },
      "execution_count": null,
      "outputs": []
    },
    {
      "cell_type": "markdown",
      "source": [
        "### Dataset Rows & Columns count"
      ],
      "metadata": {
        "id": "7hBIi_osiCS2"
      }
    },
    {
      "cell_type": "code",
      "source": [
        "# Dataset Rows & Columns count\n",
        "df.shape"
      ],
      "metadata": {
        "id": "Kllu7SJgmLij"
      },
      "execution_count": null,
      "outputs": []
    },
    {
      "cell_type": "markdown",
      "source": [
        "### Dataset Information"
      ],
      "metadata": {
        "id": "JlHwYmJAmNHm"
      }
    },
    {
      "cell_type": "code",
      "source": [
        "# Dataset Info\n",
        "df.info()"
      ],
      "metadata": {
        "id": "e9hRXRi6meOf",
        "collapsed": true
      },
      "execution_count": null,
      "outputs": []
    },
    {
      "cell_type": "markdown",
      "source": [
        "Cleaning data is crucial step before EDA as it will remove the ambigous data that can affect the outcome of EDA.\n",
        "\n",
        "While cleaning data we will perform following step\n",
        "\n",
        "1) Remove duplicate rows\n",
        "\n",
        "2) Handling missing values.\n",
        "\n",
        "3) Convert columns to appropriate datatypes.\n",
        "\n",
        "4) Adding important columns\n",
        "\n",
        "SO, let's handle duplicate values.\n"
      ],
      "metadata": {
        "id": "W0YSu6Be0kW_"
      }
    },
    {
      "cell_type": "markdown",
      "source": [
        "#### Duplicate Values"
      ],
      "metadata": {
        "id": "35m5QtbWiB9F"
      }
    },
    {
      "cell_type": "code",
      "source": [
        "# Dataset Duplicate Value Count\n",
        "\n",
        "df[df.duplicated()].shape"
      ],
      "metadata": {
        "id": "1sLdpKYkmox0"
      },
      "execution_count": null,
      "outputs": []
    },
    {
      "cell_type": "markdown",
      "source": [
        "# **Step 1: Removing duplicate rows if any**"
      ],
      "metadata": {
        "id": "AJKf8vFEHGrH"
      }
    },
    {
      "cell_type": "code",
      "source": [
        "# Dropping duplicate values\n",
        "df.drop_duplicates(inplace = True)\n",
        "df.shape"
      ],
      "metadata": {
        "id": "h4mClCme3mNx"
      },
      "execution_count": null,
      "outputs": []
    },
    {
      "cell_type": "code",
      "source": [
        "#Duplicated values after dropping duplicates\n",
        "df.duplicated().sum()"
      ],
      "metadata": {
        "id": "OF5PhMKX39F9"
      },
      "execution_count": null,
      "outputs": []
    },
    {
      "cell_type": "markdown",
      "source": [
        "#### Missing Values/Null Values"
      ],
      "metadata": {
        "id": "PoPl-ycgm1ru"
      }
    },
    {
      "cell_type": "code",
      "source": [
        "# Missing Values/Null Values Count\n",
        "#columnwise ascending\n",
        "c_null=df.isnull().sum().sort_values(ascending= False)\n",
        "print(\"columnwise:\")\n",
        "print(c_null)\n",
        "#total missing/nullvalues in dataset\n",
        "t_null=df.isnull().sum().sum()\n",
        "print(\"\\n Total Null values: \",t_null)\n",
        "\n"
      ],
      "metadata": {
        "id": "GgHWkxvamxVg"
      },
      "execution_count": null,
      "outputs": []
    },
    {
      "cell_type": "code",
      "source": [
        "# Visualizing the missing values\n",
        "import missingno as msno\n",
        "msno.bar(df)\n"
      ],
      "metadata": {
        "id": "3q5wnI3om9sJ"
      },
      "execution_count": null,
      "outputs": []
    },
    {
      "cell_type": "code",
      "source": [
        "\n",
        "# Visualizing the missing values\n",
        "# Set the plot size\n",
        "plt.figure(figsize = (15,11))\n",
        "\n",
        "# Create the figure object\n",
        "sns.heatmap(df.isnull().corr(), vmin=-1, annot= True)\n",
        "\n",
        "# Set labels\n",
        "plt.xlabel('Name of columns', fontsize=15)\n",
        "plt.ylabel('Name of columns', fontsize=13)\n",
        "plt.title('Places of missing values in Dataset', fontsize=17)\n",
        "\n",
        "# To show\n",
        "plt.show()\n"
      ],
      "metadata": {
        "id": "vD4saF0JCwDE"
      },
      "execution_count": null,
      "outputs": []
    },
    {
      "cell_type": "code",
      "source": [
        "#Columns with null values\n",
        "null_col=df.columns[df.isnull().any()]\n",
        "null_col"
      ],
      "metadata": {
        "id": "CDuNPKHx-ylX"
      },
      "execution_count": null,
      "outputs": []
    },
    {
      "cell_type": "code",
      "source": [
        "#visualize null values count\n",
        "\n",
        "plt.bar(null_col,df[null_col].isnull().sum())\n",
        "plt.title(\"Missing/null value Count\")\n",
        "plt.xlabel(\"No of missing values\")\n",
        "plt.ylabel(\"Columns\")"
      ],
      "metadata": {
        "id": "Tl9RFqRu8ULT"
      },
      "execution_count": null,
      "outputs": []
    },
    {
      "cell_type": "markdown",
      "source": [
        "\n",
        "### What did you know about your dataset?"
      ],
      "metadata": {
        "id": "H0kj-8xxnORC"
      }
    },
    {
      "cell_type": "markdown",
      "source": [
        "The dataset contains hotel booking information in  year,month,week and day ,having total 119390 rows(records) and 32 columns.\n",
        "\n",
        "In this dataset there is all information about customer who were booked the hotel.Information like booking date,hotel name,booking cancelled or not,etc.\n",
        "\n",
        "Among these columns there are 4 columns(company,agent,children,country) containing null values out of which the \"company\" column has maximum null values.\n",
        "\n",
        "1.There are duplicated values and null values in dataset.Since, company and agent columns have comany number and agent numbers as data. There may be some cases when customer didnt booked hotel via any agent or via any company. So in that case values can be null under these columns. We will replace null values by 0 in these columns.\n",
        "\n",
        "2.The column 'children' has 0 as value which means 0 children were present in group of customers who made that transaction. So, 'nan' values are the missing values due to error of recording data.\n",
        "\n",
        "We will replace the null values under this column with mean value of children.\n",
        "\n",
        "3.Next column with missing value is 'country'. This column represents the country of oriigin of customer. Since, this column has datatype of string. We will replace the missing value with the mode of 'country' column.\n",
        "\n",
        "Furthermore,reservation_status_date should be of 'date datatype, but in our dataset its datatype is 'object' so we need to change datatype to 'date'"
      ],
      "metadata": {
        "id": "gfoNAAC-nUe_"
      }
    },
    {
      "cell_type": "markdown",
      "source": [
        "## ***2. Understanding Your Variables***"
      ],
      "metadata": {
        "id": "nA9Y7ga8ng1Z"
      }
    },
    {
      "cell_type": "code",
      "source": [
        "# Dataset Columns\n",
        "df.columns"
      ],
      "metadata": {
        "id": "j7xfkqrt5Ag5"
      },
      "execution_count": null,
      "outputs": []
    },
    {
      "cell_type": "code",
      "source": [
        "# Dataset Describe\n",
        "df.describe()\n"
      ],
      "metadata": {
        "id": "DnOaZdaE5Q5t"
      },
      "execution_count": null,
      "outputs": []
    },
    {
      "cell_type": "markdown",
      "source": [
        "### Variables Description\n",
        "hotel: Name of hotel ( City or Resort).\n",
        "\n",
        "is_canceled: Whether the booking is canceled or not (0 for\n",
        "no canceled and 1 for canceled).\n",
        "\n",
        "lead_time: time (in days) between booking transaction and * actual arrival.\n",
        "\n",
        "arrival_date_year: Year of arrival\n",
        "\n",
        "arrival_date_month: month of arrival.\n",
        "\n",
        "arrival_date_week_number: week number of arrival date.\n",
        "\n",
        "arrival_date_day_of_month: Day of month of arrival date.\n",
        "\n",
        "stays_in_weekend_nights: No. of weekend nights spent in a hotel.\n",
        "\n",
        "stays_in_week_nights: No. of weeknights spent in a hotel.\n",
        "\n",
        "adults: No. of adults in single booking record.\n",
        "\n",
        "children: No. of children in single booking record.\n",
        "\n",
        "babies: No. of babies in single booking record.\n",
        "\n",
        "meal: Type of meal chosen.\n",
        "\n",
        "country: Country of origin of customers (as mentioned by them).\n",
        "\n",
        "market_segment: What segment via booking was made and for what purpose.\n",
        "\n",
        "distribution_channel: Via which medium booking was made.\n",
        "\n",
        "is_repeated_guest: Whether the customer has made any booking before(0 for No and 1 for Yes).\n",
        "\n",
        "previous_cancellations: No. of previous canceled bookings.\n",
        "\n",
        "previous_bookings_not_canceled: No. of previous non-canceled bookings.\n",
        "\n",
        "reserved_room_type: Room type reserved by a customer.\n",
        "\n",
        "assigned_room_type: Room type assigned to the customer.\n",
        "\n",
        "booking_changes: No. of booking changes done by customers.\n",
        "\n",
        "deposit_type: Type of deposit at the time of making a\n",
        "booking (No deposit/ Refundable/ No refund).\n",
        "\n",
        "agent: Id of agent for booking.\n",
        "\n",
        "company: Id of the company making a booking.\n",
        "\n",
        "days_in_waiting_list: No. of days on waiting list.\n",
        "\n",
        "customer_type: Type of customer(Transient, Group, etc.)\n",
        "\n",
        "adr: Average Daily rate.( Average daily rate measures the average revenue earned per occupied room per day)\n",
        "\n",
        "required_car_parking_spaces: No. of car parking asked in booking.\n",
        "\n",
        "total_of_special_requests: total no. of special request.\n",
        "\n",
        "reservation_status: Whether a customer has checked out or canceled,or not showed.\n",
        "\n",
        "reservation_status_date: Date of making reservation status.\n",
        "\n"
      ],
      "metadata": {
        "id": "PBTbrJXOngz2"
      }
    },
    {
      "cell_type": "markdown",
      "source": [
        "### Check Unique Values for each variable."
      ],
      "metadata": {
        "id": "u3PMJOP6ngxN"
      }
    },
    {
      "cell_type": "code",
      "source": [
        "# Check Unique Values for each variable.\n",
        "for j in df.columns:\n",
        "  print(df[j].unique())\n",
        "  print(\"\\n\")\n"
      ],
      "metadata": {
        "id": "zms12Yq5n-jE",
        "collapsed": true
      },
      "execution_count": null,
      "outputs": []
    },
    {
      "cell_type": "markdown",
      "source": [
        "## 3. ***Data Wrangling***"
      ],
      "metadata": {
        "id": "dauF4eBmngu3"
      }
    },
    {
      "cell_type": "markdown",
      "source": [
        "### Data Wrangling Code"
      ],
      "metadata": {
        "id": "bKJF3rekwFvQ"
      }
    },
    {
      "cell_type": "markdown",
      "source": [
        "1.Since, company and agent columns have comany number and agent numbers as data. There may be some cases when customer didnt booked hotel via any agent or via any company. So in that case values can be null under these columns. We will replace null values by 0 in these columns"
      ],
      "metadata": {
        "id": "CZvwfX8L3ite"
      }
    },
    {
      "cell_type": "code",
      "source": [
        "df[['company','agent']]=df[['company','agent']].fillna(0)"
      ],
      "metadata": {
        "id": "V3ZsKiZA8Mji"
      },
      "execution_count": null,
      "outputs": []
    },
    {
      "cell_type": "markdown",
      "source": [
        "2.This column 'children' has 0 as value which means 0 children were present in group of customers who made that transaction. So, 'nan' values are the missing values due to error of recording data.\n",
        "\n",
        "We will replace the null values under this column with mean value of children."
      ],
      "metadata": {
        "id": "xgpO3viD8OSg"
      }
    },
    {
      "cell_type": "code",
      "source": [
        "df['children'].fillna(df['children'].mean(), inplace= True)"
      ],
      "metadata": {
        "id": "BSzSMyrP4OcQ"
      },
      "execution_count": null,
      "outputs": []
    },
    {
      "cell_type": "markdown",
      "source": [
        "3.Next column with missing value is 'country'. This column represents the country of oriigin of customer. Since, this column has datatype of string. We will replace the missing value with the mode of 'country' column."
      ],
      "metadata": {
        "id": "X0-glbcq4Opn"
      }
    },
    {
      "cell_type": "code",
      "source": [
        "df['country'].fillna('others', inplace= True)"
      ],
      "metadata": {
        "id": "VlvQ8yls4T0y"
      },
      "execution_count": null,
      "outputs": []
    },
    {
      "cell_type": "markdown",
      "source": [
        "## Check again the columns which had null values have still null values or not."
      ],
      "metadata": {
        "id": "EfZYzB6BU7eT"
      }
    },
    {
      "cell_type": "code",
      "source": [
        "df.isnull().sum().sort_values(ascending=False)[:6]"
      ],
      "metadata": {
        "id": "LmLYTOQTU_Sk"
      },
      "execution_count": null,
      "outputs": []
    },
    {
      "cell_type": "markdown",
      "source": [
        "# So,now all null values are removed"
      ],
      "metadata": {
        "id": "vrTWJsB0VuHh"
      }
    },
    {
      "cell_type": "code",
      "source": [
        "#checking number of rows having adults,babies and children =0\n",
        "df[df['adults']+ df['babies']+df['children']==0].shape\n"
      ],
      "metadata": {
        "id": "YZ38SZKKKE0j"
      },
      "execution_count": null,
      "outputs": []
    },
    {
      "cell_type": "markdown",
      "source": [
        "# There are some rows with total number of adults, children or babies equal to zero. So we will remove such rows."
      ],
      "metadata": {
        "id": "-_FgW8Z2J95_"
      }
    },
    {
      "cell_type": "code",
      "source": [
        "#dropping those rows\n",
        "df.drop(df[df['adults']+ df['babies']+df['children']==0].index, inplace=True)\n"
      ],
      "metadata": {
        "id": "MpRj3GjDKp3U"
      },
      "execution_count": null,
      "outputs": []
    },
    {
      "cell_type": "code",
      "source": [
        "# again checking shape after dropping\n",
        "df[df['adults']+ df['babies']+df['children']==0].shape\n"
      ],
      "metadata": {
        "id": "yJMHAFRxLgo0"
      },
      "execution_count": null,
      "outputs": []
    },
    {
      "cell_type": "markdown",
      "source": [
        "# **Step 3: Converting columns to appropriate datatypes.**"
      ],
      "metadata": {
        "id": "hdm03HwsQndu"
      }
    },
    {
      "cell_type": "code",
      "source": [
        "# Converting datatype of columns 'children', 'company' and 'agent' from float to int.\n",
        "df[['children','company','agent']]=df[['children','company','agent']].astype('int64')"
      ],
      "metadata": {
        "id": "3oxhT2A-RL8t"
      },
      "execution_count": null,
      "outputs": []
    },
    {
      "cell_type": "code",
      "source": [
        "## changing datatype of column 'reservation_status_date' to data_type.\n",
        "df['reservation_status_date']=pd.to_datetime(df['reservation_status_date'], format='%Y-%m-%d')"
      ],
      "metadata": {
        "id": "4zBM6m5wWF_N"
      },
      "execution_count": null,
      "outputs": []
    },
    {
      "cell_type": "code",
      "source": [
        "#Now checking dtypes\n",
        "print(df[['children','company','agent']].dtypes)\n",
        "print(df['reservation_status_date'].dtypes)"
      ],
      "metadata": {
        "id": "ueb_GEbJS8Pg"
      },
      "execution_count": null,
      "outputs": []
    },
    {
      "cell_type": "markdown",
      "source": [
        "# **Step 4: Adding important columns.**"
      ],
      "metadata": {
        "id": "QQkIy7KZXqyv"
      }
    },
    {
      "cell_type": "code",
      "source": [
        "# Adding total staying days in hotels\n",
        "df['total_stay']=df['stays_in_weekend_nights'] + df['stays_in_week_nights']\n",
        "\n",
        "# Adding total people num as column, i.e. total people num = num of adults + children + babies\n",
        "df['total_people'] = df['adults']+df['children']+df['babies']"
      ],
      "metadata": {
        "id": "A4JLGhszX4kk"
      },
      "execution_count": null,
      "outputs": []
    },
    {
      "cell_type": "code",
      "source": [
        "df.shape"
      ],
      "metadata": {
        "id": "5ReH8IXEYkux"
      },
      "execution_count": null,
      "outputs": []
    },
    {
      "cell_type": "markdown",
      "source": [
        "# **Exploratory data analysis:**\n",
        "Visualize and explore the data to gain insights."
      ],
      "metadata": {
        "id": "bKQdUQR-Xx-q"
      }
    },
    {
      "cell_type": "code",
      "source": [
        "#Save the cleaned dataset to use in further analysis or modeling.\n",
        "df.to_csv(\"new_hotel_bookings.csv\",index=False)\n",
        "df3=pd.read_csv(\"new_hotel_bookings.csv\")\n",
        "df3.T"
      ],
      "metadata": {
        "id": "FwfIHLFaxjHb"
      },
      "execution_count": null,
      "outputs": []
    },
    {
      "cell_type": "markdown",
      "source": [
        "## ***4. Data Vizualization, Storytelling & Experimenting with charts : Understand the relationships between variables***"
      ],
      "metadata": {
        "id": "GF8Ens_Soomf"
      }
    },
    {
      "cell_type": "markdown",
      "source": [
        "#### Chart - 1\n",
        "# Q1.Which agent makes most no. of bookings?"
      ],
      "metadata": {
        "id": "0wOQAZs5pc--"
      }
    },
    {
      "cell_type": "code",
      "source": [
        "# Chart - 1 visualization code\n",
        "df4= pd.DataFrame(df3['agent'].value_counts()).reset_index().rename(columns = {'index':'agent','count':'num_of_bookings'}).sort_values(by = 'num_of_bookings', ascending = False)\n",
        "df4.drop(df4[df4['agent'] == 0].index, inplace = True)            # 0 represents that booking is not made by an agent\n",
        "df4 = df4[:10]                                                   # Selecting top 10 performing agents\n",
        "plt.figure(figsize = (10,5))\n",
        "sns.barplot(x = 'agent', y = 'num_of_bookings', data = df4, order = df4.sort_values('num_of_bookings', ascending = False).agent,palette='deep')"
      ],
      "metadata": {
        "id": "7v_ESjsspbW7"
      },
      "execution_count": null,
      "outputs": []
    },
    {
      "cell_type": "markdown",
      "source": [
        "##### 1. Why did you pick the specific chart?"
      ],
      "metadata": {
        "id": "K5QZ13OEpz2H"
      }
    },
    {
      "cell_type": "markdown",
      "source": [
        "Answer Here.\n",
        "In this example I wanted to find out the number of bookings made by top 10 agent based on the no of bookings that they made and also want to show the no of bookings in descending order.So it would be possible with the help of barplot in better way."
      ],
      "metadata": {
        "id": "XESiWehPqBRc"
      }
    },
    {
      "cell_type": "markdown",
      "source": [
        "##### 2. What is/are the insight(s) found from the chart?"
      ],
      "metadata": {
        "id": "lQ7QKXXCp7Bj"
      }
    },
    {
      "cell_type": "markdown",
      "source": [
        "Answer Here\n",
        "\n",
        "1.   maximum no of bookings made by agent having id=9\n",
        "2.   minimum no of bookings from top 10 made by agent having id=6\n",
        "\n"
      ],
      "metadata": {
        "id": "C_j1G7yiqdRP"
      }
    },
    {
      "cell_type": "markdown",
      "source": [
        "##### 3. Will the gained insights help creating a positive business impact?\n",
        "Are there any insights that lead to negative growth? Justify with specific reason."
      ],
      "metadata": {
        "id": "448CDAPjqfQr"
      }
    },
    {
      "cell_type": "markdown",
      "source": [
        "Yes.With this insights we would able to understand the agent visiting most frequently no of times and provide them good service.\n"
      ],
      "metadata": {
        "id": "3cspy4FjqxJW"
      }
    },
    {
      "cell_type": "markdown",
      "source": [
        "#### Chart - 2\n",
        "# Q2.Which meal type is most preffered meal of customers?"
      ],
      "metadata": {
        "id": "KSlN3yHqYklG"
      }
    },
    {
      "cell_type": "code",
      "source": [
        "# Chart - 2 visualization code\n",
        "plt.figure( figsize=(10, 8))\n",
        "\n",
        "sns.countplot(x = df3['meal'],palette='deep')\n",
        "plt.show()"
      ],
      "metadata": {
        "id": "R4YgtaqtYklH"
      },
      "execution_count": null,
      "outputs": []
    },
    {
      "cell_type": "markdown",
      "source": [
        "##### 1. Why did you pick the specific chart?"
      ],
      "metadata": {
        "id": "t6dVpIINYklI"
      }
    },
    {
      "cell_type": "markdown",
      "source": [
        "I wanted to know max number of times meal prefferd by customers.So counter plot directly give me the chart of meals with their respective count."
      ],
      "metadata": {
        "id": "5aaW0BYyYklI"
      }
    },
    {
      "cell_type": "markdown",
      "source": [
        "##### 2. What is/are the insight(s) found from the chart?"
      ],
      "metadata": {
        "id": "ijmpgYnKYklI"
      }
    },
    {
      "cell_type": "markdown",
      "source": [
        "Ans:BB (bed and breakfast) is the most prefered type of meal in hotel."
      ],
      "metadata": {
        "id": "PSx9atu2YklI"
      }
    },
    {
      "cell_type": "markdown",
      "source": [
        "#### Chart - 3\n",
        "# Q3.Which is the most common channel for booking hotels?"
      ],
      "metadata": {
        "id": "EM7whBJCYoAo"
      }
    },
    {
      "cell_type": "code",
      "source": [
        "# Chart - 3 visualization code\n",
        "group_by_dc = df3.groupby('distribution_channel')\n",
        "df5=pd.DataFrame(round((group_by_dc.size()/df3.shape[0])*100,2).reset_index().rename(columns={0:'Booking_%'}))\n",
        "plt.figure(figsize=(9,9))\n",
        "data=df5['Booking_%']\n",
        "labels=df5['distribution_channel']\n",
        "plt.pie(x=data,labels=labels,autopct='%.2f%%',explode=[0.05]*5,  pctdistance=0.7)\n",
        "#explode=gap between categories ,pctdistance=%labels distance from the center od pie\n"
      ],
      "metadata": {
        "id": "t6GMdE67YoAp"
      },
      "execution_count": null,
      "outputs": []
    },
    {
      "cell_type": "markdown",
      "source": [
        "##### 1. Why did you pick the specific chart?"
      ],
      "metadata": {
        "id": "fge-S5ZAYoAp"
      }
    },
    {
      "cell_type": "markdown",
      "source": [
        "Ans:Pie chart is the better way when we want to show percentage value of categories.Here this pie chart gives percentage  use of each channel.From this chart you will get that the TA/TO channel is most common channel used for hotel bookings."
      ],
      "metadata": {
        "id": "5dBItgRVYoAp"
      }
    },
    {
      "cell_type": "markdown",
      "source": [
        "##### 2. What is/are the insight(s) found from the chart?\n",
        "Ans:As the channel TA/TO has maximum percentage value i.e 79.13%.So it is the most common channel used for hotel bookings."
      ],
      "metadata": {
        "id": "85gYPyotYoAp"
      }
    },
    {
      "cell_type": "markdown",
      "source": [
        "##### 3. Will the gained insights help creating a positive business impact?\n",
        "Are there any insights that lead to negative growth? Justify with specific reason.\n"
      ],
      "metadata": {
        "id": "RoGjAbkUYoAp"
      }
    },
    {
      "cell_type": "markdown",
      "source": [
        "ANS: YES.It would helpful to know about which channel is mostly used by customers for booking hotel, so that we can try to improve the facilities and make some innovations or improvement to that channel to imporve the performance of that channel."
      ],
      "metadata": {
        "id": "zfJ8IqMcYoAp"
      }
    },
    {
      "cell_type": "markdown",
      "source": [
        "#### Chart - 4\n",
        "# Q4.What is preffered stay in each hotel?"
      ],
      "metadata": {
        "id": "4Of9eVA-YrdM"
      }
    },
    {
      "cell_type": "code",
      "source": [
        "# Chart - 4 visualization code\n",
        "not_canceled = df3[df3['is_canceled'] == 0]\n",
        "NC = not_canceled[not_canceled['total_stay'] < 15]\n",
        "plt.figure(figsize = (10,5))\n",
        "sns.countplot(x = NC['total_stay'], hue = NC['hotel'])\n",
        "plt.show()"
      ],
      "metadata": {
        "id": "irlUoxc8YrdO"
      },
      "execution_count": null,
      "outputs": []
    },
    {
      "cell_type": "markdown",
      "source": [
        "##### 1. Why did you pick the specific chart?"
      ],
      "metadata": {
        "id": "iky9q4vBYrdO"
      }
    },
    {
      "cell_type": "markdown",
      "source": [
        "Ans:This countplot gives the count of how many times the people stay in hotel for the days from 0 to 14 .from which we can understand the preffered days to stay in each hotel."
      ],
      "metadata": {
        "id": "aJRCwT6DYrdO"
      }
    },
    {
      "cell_type": "markdown",
      "source": [
        "##### 2. What is/are the insight(s) found from the chart?"
      ],
      "metadata": {
        "id": "F6T5p64dYrdO"
      }
    },
    {
      "cell_type": "markdown",
      "source": [
        "Ans:Most common stay length is less than 4 days and generally people prefer City hotel for short stay, but for long stays, Resort Hotel is preferred"
      ],
      "metadata": {
        "id": "Xx8WAJvtYrdO"
      }
    },
    {
      "cell_type": "markdown",
      "source": [
        "#### Chart - 5\n",
        "# **Q5.What is percentage of bookings in each hotel?**\n",
        "# New Section"
      ],
      "metadata": {
        "id": "bamQiAODYuh1"
      }
    },
    {
      "cell_type": "code",
      "source": [
        "# Chart - 5 visualization code\n",
        "grouped_by_hotel = df3.groupby('hotel')\n",
        "dfgbh = pd.DataFrame((grouped_by_hotel.size()/df3.shape[0])*100).reset_index().rename(columns = {0:'Booking %'})      #Calculating percentage\n",
        "dfgbh"
      ],
      "metadata": {
        "id": "TIJwrbroYuh3",
        "collapsed": true
      },
      "execution_count": null,
      "outputs": []
    },
    {
      "cell_type": "code",
      "source": [
        "plt.figure(figsize = (8,5))\n",
        "sns.barplot(x =dfgbh['hotel'], y = dfgbh['Booking %'],palette='dark' )\n",
        "plt.show()"
      ],
      "metadata": {
        "id": "DcddM0ueRGcM"
      },
      "execution_count": null,
      "outputs": []
    },
    {
      "cell_type": "markdown",
      "source": [
        "##### 1. Why did you pick the specific chart?"
      ],
      "metadata": {
        "id": "QHF8YVU7Yuh3"
      }
    },
    {
      "cell_type": "markdown",
      "source": [
        "Ans:With this bar chart we can understand which hotel is mostly preffered by the customers with the help of their booking pecentage shown in the chart."
      ],
      "metadata": {
        "id": "dcxuIMRPYuh3"
      }
    },
    {
      "cell_type": "markdown",
      "source": [
        "##### 2. What is/are the insight(s) found from the chart?"
      ],
      "metadata": {
        "id": "GwzvFGzlYuh3"
      }
    },
    {
      "cell_type": "markdown",
      "source": [
        "Ans:City hotel has been mostly preffered by the customers,as it has maximum percentage of bookings."
      ],
      "metadata": {
        "id": "uyqkiB8YYuh3"
      }
    },
    {
      "cell_type": "markdown",
      "source": [
        "##### 3. Will the gained insights help creating a positive business impact?\n",
        "Are there any insights that lead to negative growth? Justify with specific reason."
      ],
      "metadata": {
        "id": "qYpmQ266Yuh3"
      }
    },
    {
      "cell_type": "markdown",
      "source": [
        "#### Chart - 6\n",
        "# Q6.Which hotel has longer waiting time?"
      ],
      "metadata": {
        "id": "OH-pJp9IphqM"
      }
    },
    {
      "cell_type": "code",
      "source": [
        "# Chart - 6 visualization code\n",
        "d1 = grouped_by_hotel['adr'].agg(np.mean).reset_index().rename(columns = {'adr':'avg_adr'})   # calculating average adr\n",
        "plt.figure(figsize = (8,5)) #adr=Average daily rate\n",
        "sns.barplot(x = d1['hotel'], y = d1['avg_adr'],hue=d1['hotel'] )\n",
        "plt.show()"
      ],
      "metadata": {
        "id": "kuRf4wtuphqN"
      },
      "execution_count": null,
      "outputs": []
    },
    {
      "cell_type": "markdown",
      "source": [
        "# ***City hotel has longer waiing time than Resort Hotel.***\n",
        "\n"
      ],
      "metadata": {
        "id": "loh7H2nzphqN"
      }
    },
    {
      "cell_type": "markdown",
      "source": [
        "\n",
        "\n",
        "#### Chart - 7\n",
        "# Q7.Which hotel has higher bookings cancellation rate?\n"
      ],
      "metadata": {
        "id": "PIIx-8_IphqN"
      }
    },
    {
      "cell_type": "code",
      "source": [
        "\n",
        "# Chart - 7 visualization code\n",
        "# Selecting and counting number of cancelled bookings for each hotel.\n",
        "cancelled_data = df3[df3['is_canceled'] == 1]\n",
        "cancel_grp = cancelled_data.groupby('hotel')\n",
        "D1 = pd.DataFrame(cancel_grp.size()).rename(columns = {0:'total_cancelled_bookings'})\n",
        "\n",
        "# Counting total number of bookings for each type of hotel\n",
        "grouped_by_hotel = df3.groupby('hotel')\n",
        "total_booking = grouped_by_hotel.size()\n",
        "D2 = pd.DataFrame(total_booking).rename(columns = {0: 'total_bookings'})\n",
        "D3 = pd.concat([D1,D2], axis = 1)\n",
        "\n",
        "# Calculating cancel percentage\n",
        "D3['cancel_%'] = round((D3['total_cancelled_bookings']/D3['total_bookings'])*100,2)\n",
        "D3\n"
      ],
      "metadata": {
        "id": "lqAIGUfyphqO"
      },
      "execution_count": null,
      "outputs": []
    },
    {
      "cell_type": "markdown",
      "source": [
        "## ***City Hotel has 30.10% and Resort hotel has 23.48 booking cancalation rate.***"
      ],
      "metadata": {
        "id": "7D_GjLUrdwAd"
      }
    },
    {
      "cell_type": "markdown",
      "source": [
        "##### 1. Why did you pick the specific chart?"
      ],
      "metadata": {
        "id": "t27r6nlMphqO"
      }
    },
    {
      "cell_type": "markdown",
      "source": [
        "Ans:From this chart we will know that which hotel has higher cancellation rate and cancellation percentage for each hotel."
      ],
      "metadata": {
        "id": "iv6ro40sphqO"
      }
    },
    {
      "cell_type": "markdown",
      "source": [
        "#### Chart - 8\n",
        "## **Q8.Which room type is in most demand and which room type generates highest adr (Average days rate?**\n"
      ],
      "metadata": {
        "id": "BZR9WyysphqO"
      }
    },
    {
      "cell_type": "code",
      "source": [
        "# Chart - 8 visualization code\n",
        "fig, axes = plt.subplots(1, 2, figsize=(18, 8))\n",
        "\n",
        "grp_by_room = df3.groupby('assigned_room_type')\n",
        "df3['Num_of_bookings'] = grp_by_room.size()\n",
        "\n",
        "sns.countplot(ax = axes[0], x = df3['assigned_room_type'],palette='bright')\n",
        "sns.boxplot(ax = axes[1], x = df3['assigned_room_type'], y = df3['adr'])\n",
        "plt.show()"
      ],
      "metadata": {
        "id": "TdPTWpAVphqO"
      },
      "execution_count": null,
      "outputs": []
    },
    {
      "cell_type": "markdown",
      "source": [
        "## ***Most demanded room type is A, but better adr rooms are of type H, G and C also.***"
      ],
      "metadata": {
        "id": "Jxhl7k_tlS4N"
      }
    },
    {
      "cell_type": "markdown",
      "source": [
        "##### 1. Why did you pick the specific chart?"
      ],
      "metadata": {
        "id": "jj7wYXLtphqO"
      }
    },
    {
      "cell_type": "markdown",
      "source": [
        "Ans:1.Countplot:Sows total number of times specific type room is assigned to customers.\n",
        "\n",
        "  2.box plot:Shows avergae days rate of stays for each room type.\n",
        "\n",
        "   "
      ],
      "metadata": {
        "id": "Ob8u6rCTphqO"
      }
    },
    {
      "cell_type": "markdown",
      "source": [
        "##### 2. What is/are the insight(s) found from the chart?"
      ],
      "metadata": {
        "id": "eZrbJ2SmphqO"
      }
    },
    {
      "cell_type": "markdown",
      "source": [
        "Ans:\n",
        "1.Room type 'A'is mostly prefferd by customers\n",
        "2.Room type 'H' has higher adr."
      ],
      "metadata": {
        "id": "mZtgC_hjphqO"
      }
    },
    {
      "cell_type": "markdown",
      "source": [
        "#### Chart - 9\n",
        "# **Q9.From where most guests are coming?**"
      ],
      "metadata": {
        "id": "YJ55k-q6phqO"
      }
    },
    {
      "cell_type": "code",
      "source": [
        "# Chart - 9 visualization code\n",
        "grouped_by_country = df3.groupby('country')\n",
        "d1 = pd.DataFrame(grouped_by_country.size()).reset_index().rename(columns = {0:'Count'}).sort_values('Count', ascending = False)[:10]\n",
        "sns.barplot(x = d1['country'], y  = d1['Count'],hue=d1['country'])\n",
        "plt.show()\n"
      ],
      "metadata": {
        "id": "B2aS4O1ophqO"
      },
      "execution_count": null,
      "outputs": []
    },
    {
      "cell_type": "markdown",
      "source": [
        "# ***Most of the guest are from Portugal.***"
      ],
      "metadata": {
        "id": "DgVrxbxTo_E5"
      }
    },
    {
      "cell_type": "markdown",
      "source": [
        "#### Chart - 10\n",
        "# **Q10.which hotel seems to make more revenue?**"
      ],
      "metadata": {
        "id": "U2RJ9gkRphqQ"
      }
    },
    {
      "cell_type": "code",
      "source": [
        "#chart-10 visualization code\n",
        "grouped_by_hotel = df3.groupby('hotel')\n",
        "d3 = grouped_by_hotel['adr'].agg(np.mean).reset_index().rename(columns = {'adr':'avg_adr'})   # calculating average adr\n",
        "plt.figure(figsize = (8,5))\n",
        "sns.barplot(x = d3['hotel'], y = d3['avg_adr'],palette='bright' )\n",
        "plt.show()"
      ],
      "metadata": {
        "id": "ETaDqOlYsw_Q"
      },
      "execution_count": null,
      "outputs": []
    },
    {
      "cell_type": "markdown",
      "source": [
        "## ***City hotel seems to be making slightly more revenue.***"
      ],
      "metadata": {
        "id": "R5kr22mutjhb"
      }
    },
    {
      "cell_type": "markdown",
      "source": [
        "#### Chart - 11\n",
        "# **Q11.Which hotel has higher lead time?**"
      ],
      "metadata": {
        "id": "x-EpHcCOp1ci"
      }
    },
    {
      "cell_type": "code",
      "source": [
        "# Chart - 11 visualization code\n",
        "grouped_by_hotel = df3.groupby('hotel')\n",
        "d2 = grouped_by_hotel['lead_time'].median().reset_index()\n",
        "plt.figure(figsize = (8,5))\n",
        "sns.barplot(x = d2['hotel'], y = d2['lead_time'],hue=d2['hotel'] )\n",
        "plt.show()"
      ],
      "metadata": {
        "id": "mAQTIvtqp1cj"
      },
      "execution_count": null,
      "outputs": []
    },
    {
      "cell_type": "markdown",
      "source": [
        "## ***City Hotel has higher lead time than Resort Hotel.***"
      ],
      "metadata": {
        "id": "jsy9daCVtxi0"
      }
    },
    {
      "cell_type": "markdown",
      "source": [
        "#### Chart - 12\n",
        "# **Q12.Which significant distribution channel has highest cancellation percentage?**"
      ],
      "metadata": {
        "id": "n3dbpmDWp1ck"
      }
    },
    {
      "cell_type": "code",
      "source": [
        "# Chart - 12 visualization code\n",
        "group_by_dc=df3.groupby('distribution_channel')\n",
        "d1 = pd.DataFrame((group_by_dc['is_canceled'].sum()/group_by_dc.size())*100).drop(index = 'Undefined').rename(columns = {0: 'Cancel_%'})\n",
        "plt.figure(figsize = (10,5))\n",
        "sns.barplot(x = d1.index, y = d1['Cancel_%'],palette='dark')\n",
        "plt.show()\n"
      ],
      "metadata": {
        "id": "bwevp1tKp1ck"
      },
      "execution_count": null,
      "outputs": []
    },
    {
      "cell_type": "markdown",
      "source": [
        "## ***TA/TO channel has highest cancellation percentage.***"
      ],
      "metadata": {
        "id": "RgmBJO1xveit"
      }
    },
    {
      "cell_type": "markdown",
      "source": [
        "#### Chart - 13\n",
        "# **Q13.which channel is mostly used for early booking of hotels?**"
      ],
      "metadata": {
        "id": "Ag9LCva-p1cl"
      }
    },
    {
      "cell_type": "code",
      "source": [
        "# Chart - 13 visualization code\n",
        "group_by_dc = df3.groupby('distribution_channel')\n",
        "d2 = pd.DataFrame(round(group_by_dc['lead_time'].median(),2)).reset_index().rename(columns = {'lead_time': 'median_lead_time'})\n",
        "plt.figure(figsize = (7,5))\n",
        "sns.barplot(x = d2['distribution_channel'], y = d2['median_lead_time'],palette='deep')\n",
        "plt.show()\n"
      ],
      "metadata": {
        "id": "EUfxeq9-p1cl"
      },
      "execution_count": null,
      "outputs": []
    },
    {
      "cell_type": "markdown",
      "source": [
        "## ***TA/TO is mostly used for planning hotel visits ahead of time.but for sudden visits other medium are most preferred.***"
      ],
      "metadata": {
        "id": "xriwcRoNwjpp"
      }
    },
    {
      "cell_type": "markdown",
      "source": [
        "#### Chart - 14 - Correlation Heatmap"
      ],
      "metadata": {
        "id": "NC_X3p0fY2L0"
      }
    },
    {
      "cell_type": "code",
      "source": [
        "# Correlation Heatmap visualization code\n",
        "num_df3 = df3[['lead_time','previous_cancellations','previous_bookings_not_canceled','booking_changes','days_in_waiting_list','adr','required_car_parking_spaces','total_of_special_requests','total_stay','total_people']]"
      ],
      "metadata": {
        "id": "xyC9zolEZNRQ"
      },
      "execution_count": null,
      "outputs": []
    },
    {
      "cell_type": "code",
      "source": [
        "#correlation matrix\n",
        "corrmat = num_df3.corr()\n",
        "f, ax = plt.subplots(figsize=(12, 7))\n",
        "sns.heatmap(corrmat,annot = True,fmt='.2f', annot_kws={'size': 10},  vmax=.8, square=True);"
      ],
      "metadata": {
        "id": "djcsRfr2yKUS"
      },
      "execution_count": null,
      "outputs": []
    },
    {
      "cell_type": "markdown",
      "source": [
        "1) Total stay length and lead time have slight correlation. This may means that for longer hotel stays people generally plan little before the the actual arrival.\n",
        "\n",
        "2) adr is slightly correlated with total_people, which makes sense as more no. of people means more revenue, therefore more adr."
      ],
      "metadata": {
        "id": "ptgQXzug177J"
      }
    },
    {
      "cell_type": "markdown",
      "source": [
        "# Lets see does length of stay affects the adr."
      ],
      "metadata": {
        "id": "DtMZcV1g4IFm"
      }
    },
    {
      "cell_type": "code",
      "source": [
        "plt.figure(figsize = (12,6))\n",
        "sns.scatterplot(y = 'adr', x = 'total_stay', data = df3)\n",
        "plt.show()"
      ],
      "metadata": {
        "id": "hJEeQM-H4Pnu"
      },
      "execution_count": null,
      "outputs": []
    },
    {
      "cell_type": "markdown",
      "source": [
        "## We notice that there is an outlier in adr, so we will remove that for better scatter **plot**"
      ],
      "metadata": {
        "id": "Olk1LHLy4kh5"
      }
    },
    {
      "cell_type": "code",
      "source": [
        "df3.drop(df3[df3['adr']>5000].index,inplace=True)"
      ],
      "metadata": {
        "id": "H5M2h0jL4ui0"
      },
      "execution_count": null,
      "outputs": []
    },
    {
      "cell_type": "code",
      "source": [
        "plt.figure(figsize = (12,6))\n",
        "sns.scatterplot(y = 'adr', x = 'total_stay', data = df3)\n",
        "plt.show()"
      ],
      "metadata": {
        "id": "MSSEBDF45DIv"
      },
      "execution_count": null,
      "outputs": []
    },
    {
      "cell_type": "markdown",
      "source": [
        "## **From the scatter plot we can see that as length of tottal_stay increases the adr decreases. This means for longer stay, the better deal for customer can be finalised.**"
      ],
      "metadata": {
        "id": "TuZeXxad5kzO"
      }
    },
    {
      "cell_type": "markdown",
      "source": [
        "#### Chart - 15 - Pair Plot"
      ],
      "metadata": {
        "id": "q29F0dvdveiT"
      }
    },
    {
      "cell_type": "code",
      "source": [
        "# Pair Plot visualization code\n",
        "# Creating new dataset\n",
        "new_df2=df3[['hotel','is_canceled','lead_time','arrival_date_year','arrival_date_month','meal','market_segment','distribution_channel','reserved_room_type',\n",
        "       'assigned_room_type','deposit_type','days_in_waiting_list', 'customer_type', 'adr','total_stay',\n",
        "       'total_people'\n",
        "       ]]\n",
        "\n",
        "# Plotting pair plot for dataset\n",
        "plt.figure(figsize=(10,8))\n",
        "ax=sns.pairplot(new_df2)\n",
        "plt.show()"
      ],
      "metadata": {
        "id": "o58-TEIhveiU",
        "collapsed": true
      },
      "execution_count": null,
      "outputs": []
    },
    {
      "cell_type": "markdown",
      "source": [
        " We can conclude from the relationship between lead_time and is_canceled that a longer lead time does not result in cancellations.\n",
        "\n",
        "We can conclude from the lead_time and arrival_date_year graphs that people were consistently interested in booking rooms in advance in 2015, 2016, and 2017.\n",
        "\n",
        "According to the graph of arrival_date_year and days_in_waiting_list, 2016 had the longest waiting period for room bookings.\n",
        "\n",
        "We can conclude from the graph of ADR and days_in_waiting_list that a short minimum waiting period for bookings results in a high ADR.\n",
        "\n",
        "From the graph of \"is_canceled\" and \"days_in_waiting_list,\" we conclude that waiting for bookings is not a reason for booking cancellation."
      ],
      "metadata": {
        "id": "BJX7QJJ5BRMK"
      }
    },
    {
      "cell_type": "markdown",
      "source": [
        "#### What do you suggest the client to achieve Business Objective ?\n",
        "Ans:\n",
        "\n",
        "1.The goal for this project is predicting which kind of customers need special request and predicting the possibility of a booking for a hotel by knowing different features. This will help the hotel booking company to make better decisions.\n",
        "\n",
        "2.Set Non-refundable Rates, Collect deposits, and implement more rigid cancellation policies.\n",
        "\n",
        "3.Encourage Direct bookings by offering special discounts.\n",
        "\n",
        "4.Monitor where the cancellations are coming from such as Market Segment, distribution channels etc.\n",
        "\n",
        "5.the latest supporting technologies to ensure hotel rooms and services are priced at the right rate regardless ofperiods of high or low demand.\n",
        "\n",
        "6.hoteliers need to ensure that they have detailed data that is both historical and forward looking.\n",
        "\n",
        "7.Any changes in price should be monitored closely for impact on levels of demand. This information can then be used to control demand accordingly, using daily revenue management and pricing strategies."
      ],
      "metadata": {
        "id": "8G2x9gOozGDZ"
      }
    },
    {
      "cell_type": "markdown",
      "source": [
        "# **Conclusion**"
      ],
      "metadata": {
        "id": "gCX9965dhzqZ"
      }
    },
    {
      "cell_type": "markdown",
      "source": [
        "In conclusion I've noted:\n",
        "\n",
        "(1) Around 60% bookings are for City hotel and 40% bookings are for Resort hotel, therefore City Hotel is busier than Resort hotel. Also the overall adr of City hotel is slightly higher than Resort hotel.\n",
        "\n",
        "(2) Mostly guests stay for less than 5 days in hotel and for longer stays Resort hotel is preferred.\n",
        "\n",
        "(3) Both hotels have significantly higher booking cancellation rates and very few guests less than 3 % return for another booking in City hotel. 5% guests return for stay in Resort hotel.\n",
        "\n",
        "(4) Most of the guests came from european countries, with most of guests coming from Portugal.\n",
        "\n",
        "(5) Guests use different channels for making bookings out of which most preferred way is TA/TO.\n",
        "\n",
        "(6) For hotels higher adr deals come via GDS channel, so hotels should increase their popularity on this channel.\n",
        "\n",
        "(7) Not getting same room as reserved, longer lead time and waiting time do not affect cancellation of bookings. Although different room allotment do lowers the adr.\n",
        "\n",
        "(8)BB (bed and breakfast) is the most prefered type of meal in hotel.\n",
        "\n",
        "(9)For customers, generally the longer stays (more than 15 days) can result in better deals in terms of low adr.\n",
        "\n",
        "(10)TA/TO is the most common channel for booking hotels.\n",
        "\n",
        "(11).City hotel seems to be making more revenue than Resort hotel.\n",
        "\n",
        "(12).Most guests are coming from portugal.\n",
        "\n",
        "(13).Most Demand room type is A,but better adr rooms are of type H,G and c.\n",
        "\n",
        "(14).The hotel which has higher lead time is City hotel. TA/To channel has highest cancellation percentage.\n",
        "\n",
        "(15).\n",
        "\n",
        "(1)Total stay length and lead time have slight correlation. This may means that for longer hotel stays people generally plan little before the the actual arrival\n",
        "\n",
        "(2).adr is slightly correlated with total_people, which makes sense as more no. of people means more revenue, therefore more adr.\n"
      ],
      "metadata": {
        "id": "Fjb1IsQkh3yE"
      }
    },
    {
      "cell_type": "markdown",
      "source": [
        "#***Hurrah! You have successfully completed your EDA Capstone Project !!!***"
      ],
      "metadata": {
        "id": "gIfDvo9L0UH2"
      }
    },
    {
      "cell_type": "code",
      "source": [
        "\"\"\"   \"\"\""
      ],
      "metadata": {
        "id": "L6G2fNcChh51"
      },
      "execution_count": null,
      "outputs": []
    }
  ]
}